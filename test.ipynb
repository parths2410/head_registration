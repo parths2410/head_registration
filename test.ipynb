{
 "cells": [
  {
   "cell_type": "code",
   "execution_count": 6,
   "metadata": {},
   "outputs": [],
   "source": [
    "import open3d as o3d\n",
    "import numpy as np\n",
    "from head_reg import *"
   ]
  },
  {
   "cell_type": "code",
   "execution_count": 3,
   "metadata": {},
   "outputs": [],
   "source": [
    "head_model = o3d.io.read_triangle_mesh(\"./data/head_model_.obj\")\n",
    "head_prior = o3d.io.read_triangle_mesh(\"./data/head_prior.obj\")\n",
    "transformed_prior = o3d.io.read_triangle_mesh(\"./data/transformed_prior.obj\")"
   ]
  },
  {
   "cell_type": "code",
   "execution_count": 7,
   "metadata": {},
   "outputs": [],
   "source": [
    "head_model = center_mesh(head_model)\n",
    "head_prior = center_mesh(head_prior)\n",
    "transformed_prior = center_mesh(transformed_prior)"
   ]
  },
  {
   "cell_type": "code",
   "execution_count": 11,
   "metadata": {},
   "outputs": [],
   "source": [
    "head_model.paint_uniform_color([0.1, 0.1, 0.7])\n",
    "head_prior.paint_uniform_color([0.1, 0.7, 0.1])\n",
    "transformed_prior.paint_uniform_color([0.1, 0.7, 0.1])\n",
    "\n",
    "head_model_pcd = o3d.geometry.PointCloud()\n",
    "head_model_pcd.points = head_model.vertices\n",
    "head_model_pcd.paint_uniform_color([0.1, 0.1, 0.7])\n",
    "\n",
    "transformed_prior_pcd = o3d.geometry.PointCloud()\n",
    "transformed_prior_pcd.points = transformed_prior.vertices\n",
    "transformed_prior_pcd.paint_uniform_color([0.1, 0.7, 0.1])\n",
    "\n",
    "head_prior_pcd = o3d.geometry.PointCloud()\n",
    "head_prior_pcd.points = head_prior.vertices\n",
    "head_prior_pcd.paint_uniform_color([0.7, 0.1, 0.1])\n",
    "\n",
    "o3d.visualization.draw_geometries([head_model_pcd, transformed_prior_pcd])"
   ]
  }
 ],
 "metadata": {
  "kernelspec": {
   "display_name": "hair",
   "language": "python",
   "name": "python3"
  },
  "language_info": {
   "codemirror_mode": {
    "name": "ipython",
    "version": 3
   },
   "file_extension": ".py",
   "mimetype": "text/x-python",
   "name": "python",
   "nbconvert_exporter": "python",
   "pygments_lexer": "ipython3",
   "version": "3.7.12"
  },
  "orig_nbformat": 4
 },
 "nbformat": 4,
 "nbformat_minor": 2
}
